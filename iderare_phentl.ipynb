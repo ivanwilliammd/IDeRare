{
 "cells": [
  {
   "cell_type": "code",
   "execution_count": 2,
   "metadata": {},
   "outputs": [
    {
     "name": "stdout",
     "output_type": "stream",
     "text": [
      "Requirement already satisfied: pandas in c:\\users\\ivanvictus15\\anaconda3\\envs\\datascience\\lib\\site-packages (1.2.3)\n",
      "Requirement already satisfied: python-dateutil>=2.7.3 in c:\\users\\ivanvictus15\\anaconda3\\envs\\datascience\\lib\\site-packages (from pandas) (2.8.1)\n",
      "Requirement already satisfied: pytz>=2017.3 in c:\\users\\ivanvictus15\\anaconda3\\envs\\datascience\\lib\\site-packages (from pandas) (2021.1)\n",
      "Requirement already satisfied: numpy>=1.16.5 in c:\\users\\ivanvictus15\\anaconda3\\envs\\datascience\\lib\\site-packages (from pandas) (1.19.2)\n",
      "Requirement already satisfied: six>=1.5 in c:\\users\\ivanvictus15\\anaconda3\\envs\\datascience\\lib\\site-packages (from python-dateutil>=2.7.3->pandas) (1.15.0)\n"
     ]
    },
    {
     "name": "stderr",
     "output_type": "stream",
     "text": [
      "WARNING: Ignoring invalid distribution -illow (c:\\users\\ivanvictus15\\anaconda3\\envs\\datascience\\lib\\site-packages)\n",
      "WARNING: Ignoring invalid distribution -illow (c:\\users\\ivanvictus15\\anaconda3\\envs\\datascience\\lib\\site-packages)\n",
      "DEPRECATION: o365 2.0.16 has a non-standard dependency specifier tzlocal<3.*,>=1.5.0. pip 23.3 will enforce this behaviour change. A possible replacement is to upgrade to a newer version of o365 or contact the author to suggest that they release a version with a conforming dependency specifiers. Discussion can be found at https://github.com/pypa/pip/issues/12063\n",
      "\n",
      "[notice] A new release of pip is available: 23.2.1 -> 24.0\n",
      "[notice] To update, run: python.exe -m pip install --upgrade pip\n"
     ]
    },
    {
     "name": "stdout",
     "output_type": "stream",
     "text": [
      "Requirement already satisfied: pyyaml in c:\\users\\ivanvictus15\\anaconda3\\envs\\datascience\\lib\\site-packages (5.4.1)\n"
     ]
    },
    {
     "name": "stderr",
     "output_type": "stream",
     "text": [
      "WARNING: Ignoring invalid distribution -illow (c:\\users\\ivanvictus15\\anaconda3\\envs\\datascience\\lib\\site-packages)\n",
      "WARNING: Ignoring invalid distribution -illow (c:\\users\\ivanvictus15\\anaconda3\\envs\\datascience\\lib\\site-packages)\n",
      "DEPRECATION: o365 2.0.16 has a non-standard dependency specifier tzlocal<3.*,>=1.5.0. pip 23.3 will enforce this behaviour change. A possible replacement is to upgrade to a newer version of o365 or contact the author to suggest that they release a version with a conforming dependency specifiers. Discussion can be found at https://github.com/pypa/pip/issues/12063\n",
      "\n",
      "[notice] A new release of pip is available: 23.2.1 -> 24.0\n",
      "[notice] To update, run: python.exe -m pip install --upgrade pip\n"
     ]
    }
   ],
   "source": [
    "!pip install pandas\n",
    "!pip install pyyaml"
   ]
  },
  {
   "cell_type": "code",
   "execution_count": 3,
   "metadata": {},
   "outputs": [],
   "source": [
    "import os\n",
    "import pandas as pd\n",
    "import yaml"
   ]
  },
  {
   "cell_type": "code",
   "execution_count": 4,
   "metadata": {},
   "outputs": [],
   "source": [
    "# Declare the folder path for phenotype data source\n",
    "phenotype_folder = os.path.join(os.getcwd(), 'phenotype', 'subset')\n",
    "\n",
    "# Declare 7 Files\n",
    "icd10omim = 'icd102omim_subset.tsv'\n",
    "loinc2hpo = 'loinc2hpo_standardized.tsv'\n",
    "omim2hpo = 'omim2hpo_subset.tsv'\n",
    "orpha2hpo = 'orpha2hpo_subset.tsv'\n",
    "snomed2hpo = 'snomed2hpo_subset.tsv'\n",
    "snomed2orpha = 'snomed2orpha_subset.tsv'\n",
    "\n",
    "# iderare yaml configuration file\n",
    "yaml_file = 'iderare.yaml'\n",
    "\n",
    "# Clinical data dummy in txt format separated with new line\n",
    "clinical_data = 'clinical_data.txt'"
   ]
  },
  {
   "cell_type": "code",
   "execution_count": null,
   "metadata": {},
   "outputs": [],
   "source": [
    "# Read the clinical data and parse the data\n",
    "icd10omim_df = pd.read_csv(os.path.join(phenotype_folder, icd10omim), sep='\\t')\n",
    "loinc2hpo_df = pd.read_csv(os.path.join(phenotype_folder, loinc2hpo), sep='\\t')\n",
    "omim2hpo_df = pd.read_csv(os.path.join(phenotype_folder, omim2hpo), sep='\\t')\n",
    "orpha2hpo_df = pd.read_csv(os.path.join(phenotype_folder, orpha2hpo), sep='\\t')\n",
    "snomed2hpo_df = pd.read_csv(os.path.join(phenotype_folder, snomed2hpo), sep='\\t')\n",
    "snomed2orpha_df = pd.read_csv(os.path.join(phenotype_folder, snomed2orpha), sep='\\t')"
   ]
  }
 ],
 "metadata": {
  "kernelspec": {
   "display_name": "datascience",
   "language": "python",
   "name": "python3"
  },
  "language_info": {
   "codemirror_mode": {
    "name": "ipython",
    "version": 3
   },
   "file_extension": ".py",
   "mimetype": "text/x-python",
   "name": "python",
   "nbconvert_exporter": "python",
   "pygments_lexer": "ipython3",
   "version": "3.8.8"
  }
 },
 "nbformat": 4,
 "nbformat_minor": 2
}
