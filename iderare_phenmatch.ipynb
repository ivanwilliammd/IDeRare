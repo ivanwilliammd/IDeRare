{
 "cells": [
  {
   "cell_type": "code",
   "execution_count": 2,
   "metadata": {},
   "outputs": [],
   "source": [
    "# !pip install pandas\n",
    "# !pip install pyyaml\n",
    "# !pip install hpo3"
   ]
  },
  {
   "cell_type": "code",
   "execution_count": 3,
   "metadata": {},
   "outputs": [],
   "source": [
    "import os\n",
    "import pandas as pd\n",
    "import numpy as np\n",
    "from pyhpo import Ontology, HPOSet, Omim, stats, Gene\n",
    "# import yaml\n",
    "\n",
    "Ontology(os.path.join(os.getcwd(), 'phenotype', 'rawdl_20240310'))"
   ]
  },
  {
   "cell_type": "code",
   "execution_count": 4,
   "metadata": {},
   "outputs": [],
   "source": [
    "# Declare the folder path for phenotype data source\n",
    "phenotype_folder = os.path.join(os.getcwd(), 'phenotype', 'subset')\n",
    "\n",
    "# Declare 7 Files\n",
    "icd10omim = 'icd102omim_subset.tsv'\n",
    "loinc2hpo = 'loinc2hpo_standardized.tsv'\n",
    "omim2hpo = 'omim2hpo_subset.tsv'\n",
    "orpha2omim = 'orpha2omim_subset.tsv'\n",
    "orpha2hpo = 'orpha2hpo_subset.tsv'\n",
    "snomed2hpo = 'snomed2hpo_subset.tsv'\n",
    "snomed2orpha = 'snomed2orpha_subset.tsv'\n",
    "\n",
    "# iderare yaml configuration file\n",
    "yaml_file = 'iderare.yaml'\n",
    "\n",
    "# Clinical data dummy in txt format separated with new line\n",
    "clinical_data = 'clinical_data.txt'\n",
    "\n",
    "# Read the clinical data and parse the data\n",
    "icd10omim_df = pd.read_csv(os.path.join(phenotype_folder, icd10omim), sep='\\t')\n",
    "loinc2hpo_df = pd.read_csv(os.path.join(phenotype_folder, loinc2hpo), sep='\\t')\n",
    "omim2hpo_df = pd.read_csv(os.path.join(phenotype_folder, omim2hpo), sep='\\t')\n",
    "orpha2omim_df = pd.read_csv(os.path.join(phenotype_folder, orpha2omim), sep='\\t')\n",
    "orpha2hpo_df = pd.read_csv(os.path.join(phenotype_folder, orpha2hpo), sep='\\t')\n",
    "snomed2hpo_df = pd.read_csv(os.path.join(phenotype_folder, snomed2hpo), sep='\\t')\n",
    "snomed2orpha_df = pd.read_csv(os.path.join(phenotype_folder, snomed2orpha), sep='\\t')\n",
    "\n",
    "# Read line from clinical_data and parse the data to list\n",
    "with open(clinical_data, 'r') as file:\n",
    "    clinical_data_list = file.read().splitlines()"
   ]
  },
  {
   "cell_type": "code",
   "execution_count": 5,
   "metadata": {},
   "outputs": [
    {
     "data": {
      "text/plain": [
       "HPOSet.from_serialized(\"7+93+97+105+295+660+787+822+823+939+991+1114+1402+1510+1538+1733+1892+1943+1997+2149+2240+2254+3077+3128+3162+3199+3593+4322+11463+12213\")"
      ]
     },
     "execution_count": 5,
     "metadata": {},
     "output_type": "execute_result"
    }
   ],
   "source": [
    "## Usage of HPO3\n",
    "### Get Gene object\n",
    "Gene.get('GBE1').hpo_set()\n",
    "Omim.get(int('232200')).hpo_set()"
   ]
  },
  {
   "cell_type": "code",
   "execution_count": null,
   "metadata": {},
   "outputs": [],
   "source": []
  },
  {
   "cell_type": "code",
   "execution_count": null,
   "metadata": {},
   "outputs": [],
   "source": []
  },
  {
   "cell_type": "code",
   "execution_count": null,
   "metadata": {},
   "outputs": [],
   "source": []
  },
  {
   "cell_type": "code",
   "execution_count": 6,
   "metadata": {},
   "outputs": [],
   "source": [
    "# Convert SNOMED to ORPHA First\n",
    "def snomed_orpha_parser(clinical_data, df):\n",
    "    print('Trying to parse ORPHA from SNOMED-CT', clinical_data)\n",
    "    \n",
    "    if 'SNOMEDCT:' in clinical_data:\n",
    "        if clinical_data not in df['code'].unique() :\n",
    "            print('This SNOMED-CT code is not a clinical finding mapped with ORPHA, please check the SNOMED to ORPHA for diagnosis mapping.')\n",
    "            snomed_sugg = df[df['code'].str.contains(clinical_data.strip('SNOMEDCT:'))]['code'].drop_duplicates()\n",
    "            print('Sugggestion : It is possible that you mean any of this code:', (', ').join(snomed_sugg.values) , '?\\n')\n",
    "            return []\n",
    "        else : \n",
    "            snomed_orpha = df[df['code'] == clinical_data]['orphanet_map'].to_list()\n",
    "            print('Parsing of', clinical_data, 'successful with result of :', len(snomed_orpha), ' ORPHA code : ', (', ').join(snomed_orpha), '\\n')\n",
    "            return snomed_orpha\n",
    "        \n",
    "    else :\n",
    "        print('The terminology is not recognized, please check if you have used correct terminology.')\n",
    "        print('Allowable format : SNOMEDCT disorder semantic only SNOMEDCT:1212005', '\\n')\n",
    "        return []"
   ]
  },
  {
   "cell_type": "code",
   "execution_count": 7,
   "metadata": {},
   "outputs": [],
   "source": [
    "# HPO Parser for Clinical Finding Related Terminology such as SNOMED, LOINC\n",
    "def hpo_parser(clinical_data, df):    \n",
    "    print('Trying to parse HPO from terminology', clinical_data)\n",
    "    \n",
    "    # LOINC case\n",
    "    if 'LOINC:' in clinical_data:\n",
    "        loinc_split = clinical_data.split('|')\n",
    "        # Ensure that the forwarded data contain both LOINC and its interpretation\n",
    "        if len(loinc_split) == 2:\n",
    "            loinc = loinc_split[0]\n",
    "            interpretation = loinc_split[1]\n",
    "            \n",
    "            # Handling if LOINC code not found in the database\n",
    "            if loinc not in df['loinc'].unique() :\n",
    "                print('LOINC data is not found in the database, please check the exact LOINC code.')\n",
    "                loinc_sugg = df[df['loinc'].str.contains(loinc.strip('LOINC:'))]['loinc'].drop_duplicates()\n",
    "                print('Did you mean any of this code:', (', ').join(loinc_sugg.values) , '?\\n')\n",
    "                return []\n",
    "            \n",
    "            loinc_hpo = df[df['loinc'] == loinc]\n",
    "\n",
    "            # Handling if interpretation not suitable for the LOINC code\n",
    "            if interpretation not in loinc_hpo['interpretation'].unique() :\n",
    "                print('Interpretation is invalid, please check if you have used correct interpretation.')\n",
    "                interpretation_sugg = df[df['loinc']==loinc]['interpretation'].drop_duplicates()\n",
    "                print('Available interpretation for code', loinc, ' : ', (' or ').join(interpretation_sugg.values) , '\\n')\n",
    "                return []\n",
    "            \n",
    "            loinc_hpo = loinc_hpo[loinc_hpo['interpretation'] == interpretation]['hpoTermId'].to_list()\n",
    "            print('Parsing of', clinical_data, 'successful with result of :', loinc_hpo, '\\n')\n",
    "            return loinc_hpo\n",
    "        else:\n",
    "            print('LOINC data is missing either code / interpretation.')\n",
    "            print('Example : LOINC:721-1|H for Qn lab examination OR LOINC:721-1|NEG for Nominal / Ordinal Lab Examination', '\\n')\n",
    "            return []\n",
    "        \n",
    "    # SNOMED-CT case\n",
    "    elif 'SNOMEDCT:' in clinical_data:\n",
    "        if clinical_data not in df['SNOMED_CT_ID'].unique() :\n",
    "            print('This SNOMED-CT code is not a clinical finding mapped with HPO, please check the SNOMED to OMIM for diagnosis mapping.')\n",
    "            snomed_sugg = df[df['SNOMED_CT_ID'].str.contains(clinical_data.strip('SNOMEDCT:'))]['SNOMED_CT_ID'].drop_duplicates()\n",
    "            print('Sugggestion : It is possible that you mean any of this code:', (', ').join(snomed_sugg.values) , '?\\n')\n",
    "            return []\n",
    "        else : \n",
    "            snomed_hpo = df[df['SNOMED_CT_ID'] == clinical_data]['HPO_ID'].to_list()\n",
    "            print('Parsing of', clinical_data, 'successful with result of :', len(snomed_hpo), ' HPO code : ', (', ').join(snomed_hpo), '\\n')\n",
    "            return snomed_hpo\n",
    "        \n",
    "    # Not recognized case\n",
    "    else:\n",
    "        print('The terminology is not recognized, please check if you have used correct terminology.')\n",
    "        print('Example : LOINC:2862-1|L for Qn lab examination OR LOINC:725-2|NEG for categoric lab examination of SNOMEDCT:48610005 for Clinical Finding', '\\n')\n",
    "        return []"
   ]
  },
  {
   "cell_type": "code",
   "execution_count": 8,
   "metadata": {},
   "outputs": [],
   "source": [
    "# OMIM Parser used for diagnosis related terminology ICD-10, ORPHA, SNOMED-CT to be translated to OMIM\n",
    "def omim_parser(clinical_data,df):\n",
    "    print('Trying to parse OMIM from terminology', clinical_data)\n",
    "\n",
    "    # ICD-10 case\n",
    "    if 'ICD-10:' in clinical_data:\n",
    "        if clinical_data not in df['ICD10'].unique() :\n",
    "            print('ICD-10 data is not found in the database, please check the exact ICD-10 code.')\n",
    "            icd_sugg = df[df['ICD10'].str.contains(clinical_data.strip('ICD-10:'))]['ICD10'].drop_duplicates()\n",
    "            print('Did you mean any of this code:', (', ').join(icd_sugg.values) , '?\\n')\n",
    "            return []\n",
    "        else : \n",
    "            icd_omim = df[df['ICD10'] == clinical_data]['OMIM'].to_list()\n",
    "            print('Parsing of', clinical_data, 'successful with result of :', len(icd_omim), ' OMIM code : ', (', ').join(icd_omim), '\\n')\n",
    "            return icd_omim\n",
    "        \n",
    "    # ORPHA case\n",
    "    elif 'ORPHA:' in clinical_data:\n",
    "        if clinical_data not in df['ORPHA'].unique() :\n",
    "            print('ORPHA data is not found in the database, please check the exact ORPHA code.')\n",
    "            orpha_sugg = df[df['ORPHA'].str.contains(clinical_data.strip('ORPHA:'))]['ORPHA'].drop_duplicates()\n",
    "            print('Did you mean any of this code:', (', ').join(orpha_sugg.values) , '?\\n')\n",
    "            return []\n",
    "        else : \n",
    "            orpha_hpo = df[df['ORPHA'] == clinical_data]['OMIM'].to_list()\n",
    "            print('Parsing of', clinical_data, 'successful with result of :', len(orpha_hpo), ' OMIM code : ', (', ').join(orpha_hpo), '\\n')\n",
    "            return orpha_hpo\n",
    "    \n",
    "    else:\n",
    "        print('The terminology is not recognized, please check the input format.')\n",
    "        print('Allowable format is : ICD-10:xxxx OR ORPHA:xxxxx for clinical disorder', '\\n')\n",
    "        return []"
   ]
  },
  {
   "cell_type": "code",
   "execution_count": 18,
   "metadata": {},
   "outputs": [
    {
     "name": "stdout",
     "output_type": "stream",
     "text": [
      "HP:0002366 is not found in the database\n",
      "HP:0005561 SNOMEDCT:127035006 ['Abnormal bone marrow cell morphology']\n",
      "HP:0001903 SNOMEDCT:165397008 ['Anemia', 'Anemia']\n",
      "HP:0001903 SNOMEDCT:271737000 ['Anemia', 'Anemia']\n",
      "HP:0010972 SNOMEDCT:70730006 ['Anemia of inadequate production']\n",
      "HP:0001541 SNOMEDCT:389026000 ['Ascites']\n",
      "HP:0004333 is not found in the database\n",
      "HP:0001396 SNOMEDCT:197446008 ['Cholestasis', 'Cholestasis', 'Cholestasis']\n",
      "HP:0001396 SNOMEDCT:30144000 ['Cholestasis', 'Cholestasis', 'Cholestasis']\n",
      "HP:0001396 SNOMEDCT:33688009 ['Cholestasis', 'Cholestasis', 'Cholestasis']\n",
      "HP:0002910 SNOMEDCT:166603001 ['Elevated circulating hepatic transaminase concentration', 'Elevated circulating hepatic transaminase concentration', 'Elevated circulating hepatic transaminase concentration']\n",
      "HP:0002910 SNOMEDCT:166643006 ['Elevated circulating hepatic transaminase concentration', 'Elevated circulating hepatic transaminase concentration', 'Elevated circulating hepatic transaminase concentration']\n",
      "HP:0002910 SNOMEDCT:75183008 ['Elevated circulating hepatic transaminase concentration', 'Elevated circulating hepatic transaminase concentration', 'Elevated circulating hepatic transaminase concentration']\n",
      "HP:0001531 is not found in the database\n",
      "HP:0001399 SNOMEDCT:59927004 ['Hepatic failure']\n",
      "HP:0001433 SNOMEDCT:36760000 ['Hepatosplenomegaly']\n",
      "HP:0003073 SNOMEDCT:119247004 ['Hypoalbuminemia']\n",
      "HP:0003233 SNOMEDCT:190785000 ['Decreased HDL cholesterol concentration']\n",
      "HP:0006568 is not found in the database\n",
      "HP:0002151 is not found in the database\n",
      "HP:0200114 SNOMEDCT:1388004 ['Metabolic alkalosis']\n",
      "HP:0001653 SNOMEDCT:48724000 ['Mitral regurgitation']\n",
      "HP:0000938 SNOMEDCT:312894000 ['Osteopenia', 'Osteopenia']\n",
      "HP:0000938 SNOMEDCT:78441005 ['Osteopenia', 'Osteopenia']\n",
      "HP:0001873 SNOMEDCT:302215000 ['Thrombocytopenia', 'Thrombocytopenia']\n",
      "HP:0001873 SNOMEDCT:415116008 ['Thrombocytopenia', 'Thrombocytopenia']\n"
     ]
    }
   ],
   "source": [
    "phenotypes = [\n",
    "      \"HP:0002366\",\n",
    "      \"HP:0005561\",\n",
    "      \"HP:0001903\",\n",
    "      \"HP:0010972\",\n",
    "      \"HP:0001541\",\n",
    "      \"HP:0004333\",\n",
    "      \"HP:0001396\",\n",
    "      \"HP:0002910\",\n",
    "      \"HP:0001531\",\n",
    "      \"HP:0001399\",\n",
    "      \"HP:0001433\",\n",
    "      \"HP:0003073\",\n",
    "      \"HP:0003233\",\n",
    "      \"HP:0006568\",\n",
    "      \"HP:0002151\",\n",
    "      \"HP:0200114\",\n",
    "      \"HP:0001653\",\n",
    "      \"HP:0000938\",\n",
    "      \"HP:0001873\",\n",
    "    ]\n",
    "\n",
    "for p in phenotypes : \n",
    "    # print(p, snomed2hpo_df[snomed2hpo_df['HPO_ID'] == p]['SNOMED_CT_ID'].to_list(), snomed2hpo_df[snomed2hpo_df['HPO_ID'] == p]['HPO_NAME'].to_list())\n",
    "    snomed_list = snomed2hpo_df[snomed2hpo_df['HPO_ID'] == p]['SNOMED_CT_ID'].to_list()\n",
    "    hpo_name = snomed2hpo_df[snomed2hpo_df['HPO_ID'] == p]['HPO_NAME'].to_list()\n",
    "    if len(snomed_list) == 0 :\n",
    "        print(p, 'is not found in the database')\n",
    "    for i in range(len(snomed_list)) : \n",
    "        print(p, snomed_list[i], hpo_name)"
   ]
  },
  {
   "cell_type": "code",
   "execution_count": 10,
   "metadata": {},
   "outputs": [
    {
     "data": {
      "text/plain": [
       "SNOMEDCT:127026004    3\n",
       "SNOMEDCT:42658009     3\n",
       "SNOMEDCT:30721006     3\n",
       "SNOMEDCT:64779008     3\n",
       "SNOMEDCT:278849000    3\n",
       "                     ..\n",
       "SNOMEDCT:254044004    1\n",
       "SNOMEDCT:238090007    1\n",
       "SNOMEDCT:78494001     1\n",
       "SNOMEDCT:122481008    1\n",
       "SNOMEDCT:255055008    1\n",
       "Name: SNOMED_CT_ID, Length: 4401, dtype: int64"
      ]
     },
     "execution_count": 10,
     "metadata": {},
     "output_type": "execute_result"
    }
   ],
   "source": [
    "# Check the dataframe\n",
    "icd10omim_df['ICD10'].value_counts()\n",
    "orpha2omim_df['ORPHA'].value_counts()\n",
    "snomed2orpha_df['code'].value_counts()\n",
    "snomed2hpo_df['SNOMED_CT_ID'].value_counts()"
   ]
  },
  {
   "cell_type": "code",
   "execution_count": null,
   "metadata": {},
   "outputs": [],
   "source": []
  }
 ],
 "metadata": {
  "kernelspec": {
   "display_name": "datascience",
   "language": "python",
   "name": "python3"
  },
  "language_info": {
   "codemirror_mode": {
    "name": "ipython",
    "version": 3
   },
   "file_extension": ".py",
   "mimetype": "text/x-python",
   "name": "python",
   "nbconvert_exporter": "python",
   "pygments_lexer": "ipython3",
   "version": "3.8.8"
  }
 },
 "nbformat": 4,
 "nbformat_minor": 2
}
