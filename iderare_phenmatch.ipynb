{
 "cells": [
  {
   "cell_type": "code",
   "execution_count": 3,
   "metadata": {},
   "outputs": [],
   "source": [
    "# !pip install pandas\n",
    "# !pip install pyyaml\n",
    "# !pip install hpo3"
   ]
  },
  {
   "cell_type": "code",
   "execution_count": 14,
   "metadata": {},
   "outputs": [],
   "source": [
    "import os\n",
    "import pandas as pd\n",
    "import numpy as np\n",
    "from pyhpo import Ontology, HPOSet, Omim, stats, Gene\n",
    "# import yaml\n",
    "\n",
    "Ontology(os.path.join(os.getcwd(), 'phenotype', 'rawdl_20240310'))"
   ]
  },
  {
   "cell_type": "code",
   "execution_count": 15,
   "metadata": {},
   "outputs": [
    {
     "data": {
      "text/plain": [
       "HPOSet.from_serialized(\"7+93+97+105+295+660+787+822+823+939+991+1114+1402+1510+1538+1733+1892+1943+1997+2149+2240+2254+3077+3128+3162+3199+3593+4322+11463+12213\")"
      ]
     },
     "execution_count": 15,
     "metadata": {},
     "output_type": "execute_result"
    }
   ],
   "source": [
    "## Usage of HPO3\n",
    "\n",
    "# Get Gene object\n",
    "Gene.get('GBE1').hpo_set()\n",
    "Omim.get(int('232200')).hpo_set()"
   ]
  },
  {
   "cell_type": "code",
   "execution_count": null,
   "metadata": {},
   "outputs": [],
   "source": []
  },
  {
   "cell_type": "code",
   "execution_count": 17,
   "metadata": {},
   "outputs": [
    {
     "data": {
      "text/plain": [
       "['SNOMEDCT:65959000',\n",
       " 'SNOMEDCT:11179002',\n",
       " 'ICD-10:E75.2',\n",
       " 'SNOMEDCT:258211005',\n",
       " 'SNOMEDCT:80515008',\n",
       " 'SNOMEDCT:389026000',\n",
       " 'LOINC:2862-1|L',\n",
       " 'LOINC:718-7|L']"
      ]
     },
     "execution_count": 17,
     "metadata": {},
     "output_type": "execute_result"
    }
   ],
   "source": [
    "# Declare the folder path for phenotype data source\n",
    "phenotype_folder = os.path.join(os.getcwd(), 'phenotype', 'subset')\n",
    "\n",
    "# Declare 7 Files\n",
    "icd10omim = 'icd102omim_subset.tsv'\n",
    "loinc2hpo = 'loinc2hpo_standardized.tsv'\n",
    "omim2hpo = 'omim2hpo_subset.tsv'\n",
    "orpha2omim = 'orpha2omim_subset.tsv'\n",
    "orpha2hpo = 'orpha2hpo_subset.tsv'\n",
    "snomed2hpo = 'snomed2hpo_subset.tsv'\n",
    "snomed2orpha = 'snomed2orpha_subset.tsv'\n",
    "\n",
    "# iderare yaml configuration file\n",
    "yaml_file = 'iderare.yaml'\n",
    "\n",
    "# Clinical data dummy in txt format separated with new line\n",
    "clinical_data = 'clinical_data.txt'\n",
    "\n",
    "# Read line from clinical_data and parse the data to list\n",
    "with open(clinical_data, 'r') as file:\n",
    "    clinical_data_list = file.read().splitlines()\n",
    "\n",
    "clinical_data_list"
   ]
  },
  {
   "cell_type": "code",
   "execution_count": 16,
   "metadata": {},
   "outputs": [],
   "source": [
    "# HPO Parser for Clinical Finding Related Terminology such as SNOMED, LOINC\n",
    "def hpo_parser(clinical_data, df):    \n",
    "    print('Trying to parse HPO from terminology', clinical_data)\n",
    "    \n",
    "    # LOINC case\n",
    "    if 'LOINC:' in clinical_data:\n",
    "        loinc_split = clinical_data.split('|')\n",
    "        # Ensure that the forwarded data contain both LOINC and its interpretation\n",
    "        if len(loinc_split) == 2:\n",
    "            loinc = loinc_split[0]\n",
    "            interpretation = loinc_split[1]\n",
    "            \n",
    "            # Handling if LOINC code not found in the database\n",
    "            if loinc not in df['loinc'].unique() :\n",
    "                print('LOINC data is not found in the database, please check the exact LOINC code.')\n",
    "                loinc_sugg = df[df['loinc'].str.contains(loinc.strip('LOINC:'))]['loinc'].drop_duplicates()\n",
    "                print('Did you mean any of this code:', (', ').join(loinc_sugg.values) , '?\\n')\n",
    "                return []\n",
    "            \n",
    "            loinc_hpo = df[df['loinc'] == loinc]\n",
    "\n",
    "            # Handling if interpretation not suitable for the LOINC code\n",
    "            if interpretation not in loinc_hpo['interpretation'].unique() :\n",
    "                print('Interpretation is invalid, please check if you have used correct interpretation.')\n",
    "                interpretation_sugg = df[df['loinc']==loinc]['interpretation'].drop_duplicates()\n",
    "                print('Available interpretation for code', loinc, ' : ', (' or ').join(interpretation_sugg.values) , '\\n')\n",
    "                return []\n",
    "            \n",
    "            loinc_hpo = loinc_hpo[loinc_hpo['interpretation'] == interpretation]['hpoTermId'].to_list()\n",
    "            print('Parsing of', clinical_data, 'successful with result of :', loinc_hpo, '\\n')\n",
    "            return loinc_hpo\n",
    "        else:\n",
    "            print('LOINC data is missing either code / interpretation.')\n",
    "            print('Example : LOINC:721-1|H for Qn lab examination OR LOINC:721-1|NEG for Nominal / Ordinal Lab Examination', '\\n')\n",
    "            return []\n",
    "        \n",
    "    # SNOMED-CT case\n",
    "    elif 'SNOMEDCT:' in clinical_data:\n",
    "        if clinical_data not in df['SNOMED_CT_ID'].unique() :\n",
    "            print('This SNOMED-CT code is not a clinical finding mapped with HPO, please check the SNOMED to OMIM for diagnosis mapping.')\n",
    "            snomed_sugg = df[df['SNOMED_CT_ID'].str.contains(clinical_data.strip('SNOMEDCT:'))]['SNOMED_CT_ID'].drop_duplicates()\n",
    "            print('Sugggestion : It is possible that you mean any of this code:', (', ').join(snomed_sugg.values) , '?\\n')\n",
    "            return []\n",
    "        else : \n",
    "            snomed_hpo = df[df['SNOMED_CT_ID'] == clinical_data]['HPO_ID'].to_list()\n",
    "            print('Parsing of', clinical_data, 'successful with result of :', len(snomed_hpo), ' HPO code : ', (', ').join(snomed_hpo), '\\n')\n",
    "            return snomed_hpo\n",
    "        \n",
    "    # Not recognized case\n",
    "    else:\n",
    "        print('The terminology is not recognized, please check if you have used correct terminology.')\n",
    "        print('Example : LOINC:2862-1|L for Qn lab examination OR LOINC:725-2|NEG for categoric lab examination of SNOMEDCT:48610005 for Clinical Finding', '\\n')\n",
    "        return []"
   ]
  },
  {
   "cell_type": "code",
   "execution_count": null,
   "metadata": {},
   "outputs": [],
   "source": [
    "# Convert SNOMED to ORPHA First\n",
    "def snomed_orpha_parser(clinical_data, df):\n",
    "    print('Trying to parse ORPHA from SNOMED-CT', clinical_data)\n",
    "    \n",
    "    if 'SNOMEDCT:' in clinical_data:\n",
    "        if clinical_data not in df['code'].unique() :\n",
    "            print('This SNOMED-CT code is not a clinical finding mapped with ORPHA, please check the SNOMED to ORPHA for diagnosis mapping.')\n",
    "            snomed_sugg = df[df['code'].str.contains(clinical_data.strip('SNOMEDCT:'))]['code'].drop_duplicates()\n",
    "            print('Sugggestion : It is possible that you mean any of this code:', (', ').join(snomed_sugg.values) , '?\\n')\n",
    "            return []\n",
    "        else : \n",
    "            snomed_orpha = df[df['code'] == clinical_data]['orphanet_map'].to_list()\n",
    "            print('Parsing of', clinical_data, 'successful with result of :', len(snomed_orpha), ' ORPHA code : ', (', ').join(snomed_orpha), '\\n')\n",
    "            return snomed_orpha\n",
    "        \n",
    "    else :\n",
    "        print('The terminology is not recognized, please check if you have used correct terminology.')\n",
    "        print('Allowable format : SNOMEDCT disorder semantic only SNOMEDCT:1212005', '\\n')\n",
    "        return []"
   ]
  },
  {
   "cell_type": "code",
   "execution_count": null,
   "metadata": {},
   "outputs": [],
   "source": [
    "# OMIM Parser used for diagnosis related terminology ICD-10, ORPHA, SNOMED-CT to be translated to OMIM\n",
    "def omim_parser(clinical_data,df):\n",
    "    print('Trying to parse OMIM from terminology', clinical_data)\n",
    "\n",
    "    # ICD-10 case\n",
    "    if 'ICD-10:' in clinical_data:\n",
    "        if clinical_data not in df['ICD10'].unique() :\n",
    "            print('ICD-10 data is not found in the database, please check the exact ICD-10 code.')\n",
    "            icd_sugg = df[df['ICD10'].str.contains(clinical_data.strip('ICD-10:'))]['ICD10'].drop_duplicates()\n",
    "            print('Did you mean any of this code:', (', ').join(icd_sugg.values) , '?\\n')\n",
    "            return []\n",
    "        else : \n",
    "            icd_omim = df[df['ICD10'] == clinical_data]['OMIM'].to_list()\n",
    "            print('Parsing of', clinical_data, 'successful with result of :', len(icd_omim), ' OMIM code : ', (', ').join(icd_omim), '\\n')\n",
    "            return icd_omim\n",
    "        \n",
    "    # ORPHA case\n",
    "    elif 'ORPHA:' in clinical_data:\n",
    "        if clinical_data not in df['ORPHA'].unique() :\n",
    "            print('ORPHA data is not found in the database, please check the exact ORPHA code.')\n",
    "            orpha_sugg = df[df['ORPHA'].str.contains(clinical_data.strip('ORPHA:'))]['ORPHA'].drop_duplicates()\n",
    "            print('Did you mean any of this code:', (', ').join(orpha_sugg.values) , '?\\n')\n",
    "            return []\n",
    "        else : \n",
    "            orpha_hpo = df[df['ORPHA'] == clinical_data]['OMIM'].to_list()\n",
    "            print('Parsing of', clinical_data, 'successful with result of :', len(orpha_hpo), ' OMIM code : ', (', ').join(orpha_hpo), '\\n')\n",
    "            return orpha_hpo\n",
    "    \n",
    "    else:\n",
    "        print('The terminology is not recognized, please check the input format.')\n",
    "        print('Allowable format is : ICD-10:xxxx OR ORPHA:xxxxx for clinical disorder', '\\n')\n",
    "        return []"
   ]
  }
 ],
 "metadata": {
  "kernelspec": {
   "display_name": "datascience",
   "language": "python",
   "name": "python3"
  },
  "language_info": {
   "codemirror_mode": {
    "name": "ipython",
    "version": 3
   },
   "file_extension": ".py",
   "mimetype": "text/x-python",
   "name": "python",
   "nbconvert_exporter": "python",
   "pygments_lexer": "ipython3",
   "version": "3.8.8"
  }
 },
 "nbformat": 4,
 "nbformat_minor": 2
}
