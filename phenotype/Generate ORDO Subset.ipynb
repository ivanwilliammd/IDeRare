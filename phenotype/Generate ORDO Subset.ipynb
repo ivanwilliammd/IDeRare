{
 "cells": [
  {
   "cell_type": "code",
   "execution_count": 1,
   "metadata": {},
   "outputs": [
    {
     "name": "stdout",
     "output_type": "stream",
     "text": [
      "Requirement already satisfied: pandas in c:\\users\\ivan-rtx2080\\.conda\\envs\\datascience\\lib\\site-packages (1.2.3)"
     ]
    },
    {
     "name": "stderr",
     "output_type": "stream",
     "text": [
      "DEPRECATION: o365 2.0.16 has a non-standard dependency specifier tzlocal<3.*,>=1.5.0. pip 23.3 will enforce this behaviour change. A possible replacement is to upgrade to a newer version of o365 or contact the author to suggest that they release a version with a conforming dependency specifiers. Discussion can be found at https://github.com/pypa/pip/issues/12063\n",
      "\n",
      "[notice] A new release of pip is available: 23.2.1 -> 24.0\n",
      "[notice] To update, run: python.exe -m pip install --upgrade pip\n"
     ]
    },
    {
     "name": "stdout",
     "output_type": "stream",
     "text": [
      "\n",
      "Requirement already satisfied: python-dateutil>=2.7.3 in c:\\users\\ivan-rtx2080\\.conda\\envs\\datascience\\lib\\site-packages (from pandas) (2.8.1)\n",
      "Requirement already satisfied: pytz>=2017.3 in c:\\users\\ivan-rtx2080\\.conda\\envs\\datascience\\lib\\site-packages (from pandas) (2021.1)\n",
      "Requirement already satisfied: numpy>=1.16.5 in c:\\users\\ivan-rtx2080\\.conda\\envs\\datascience\\lib\\site-packages (from pandas) (1.24.4)\n",
      "Requirement already satisfied: six>=1.5 in c:\\users\\ivan-rtx2080\\.conda\\envs\\datascience\\lib\\site-packages (from python-dateutil>=2.7.3->pandas) (1.15.0)\n"
     ]
    }
   ],
   "source": [
    "!pip install pandas"
   ]
  },
  {
   "cell_type": "code",
   "execution_count": 2,
   "metadata": {},
   "outputs": [],
   "source": [
    "import pandas as pd\n",
    "import os\n",
    "\n",
    "# Import ORDO data\n",
    "ordo = pd.read_csv(os.path.join(os.getcwd(), 'rawdl_20240310', 'ordo.csv'))"
   ]
  },
  {
   "cell_type": "code",
   "execution_count": 3,
   "metadata": {},
   "outputs": [
    {
     "name": "stdout",
     "output_type": "stream",
     "text": [
      "Gene :  4429\n",
      "Disease :  10892\n",
      "Other :  28\n",
      "Total :  15349\n"
     ]
    }
   ],
   "source": [
    "# Filter the gene\n",
    "ordo_gene = ordo[ordo['http://www.w3.org/2004/02/skos/core#notation'].isnull()]\n",
    "ordo_gene = ordo[ordo['http://www.orpha.net/ORDO/symbol'].notnull()]\n",
    "\n",
    "# Filter the disease\n",
    "ordo_disease = ordo[ordo['http://www.w3.org/2004/02/skos/core#notation'].notnull()]\n",
    "\n",
    "# Filter the definition\n",
    "ordo_other = ordo[~ordo['Class ID'].isin(ordo_gene['Class ID']) & ~ordo['Class ID'].isin(ordo_disease['Class ID'])]\n",
    "\n",
    "print('Gene : ', len(ordo_gene))\n",
    "print('Disease : ', len(ordo_disease))\n",
    "print('Other : ', len(ordo_other))\n",
    "print('Total : ', len(ordo))"
   ]
  },
  {
   "cell_type": "code",
   "execution_count": 4,
   "metadata": {},
   "outputs": [],
   "source": [
    "# # View and Iterate the data in ORDO\n",
    "# columns = ordo.columns\n",
    "\n",
    "# for item in ordo.head().iterrows() :\n",
    "#     print('====================')\n",
    "#     for column in columns :\n",
    "#         print(column, ' : ', item[1][column])"
   ]
  },
  {
   "cell_type": "code",
   "execution_count": 5,
   "metadata": {},
   "outputs": [],
   "source": [
    "# Generate ORDO Disease / DIagnosis Map Subset\n",
    "clean_ordo = pd.DataFrame()\n",
    "clean_ordo['ORPHA'] = ordo_disease['http://www.w3.org/2004/02/skos/core#notation']\n",
    "clean_ordo['label'] = ordo_disease['Preferred Label']\n",
    "clean_ordo['Map'] = ordo_disease['http://www.geneontology.org/formats/oboInOwl#hasDbXref']"
   ]
  },
  {
   "cell_type": "code",
   "execution_count": 6,
   "metadata": {},
   "outputs": [
    {
     "data": {
      "text/html": [
       "<div>\n",
       "<style scoped>\n",
       "    .dataframe tbody tr th:only-of-type {\n",
       "        vertical-align: middle;\n",
       "    }\n",
       "\n",
       "    .dataframe tbody tr th {\n",
       "        vertical-align: top;\n",
       "    }\n",
       "\n",
       "    .dataframe thead th {\n",
       "        text-align: right;\n",
       "    }\n",
       "</style>\n",
       "<table border=\"1\" class=\"dataframe\">\n",
       "  <thead>\n",
       "    <tr style=\"text-align: right;\">\n",
       "      <th></th>\n",
       "      <th>ORPHA</th>\n",
       "      <th>label</th>\n",
       "      <th>Map</th>\n",
       "    </tr>\n",
       "  </thead>\n",
       "  <tbody>\n",
       "    <tr>\n",
       "      <th>0</th>\n",
       "      <td>ORPHA:478664</td>\n",
       "      <td>Hereditary sensory and autonomic neuropathy ty...</td>\n",
       "      <td>ICD-10:G60.8</td>\n",
       "    </tr>\n",
       "    <tr>\n",
       "      <th>1</th>\n",
       "      <td>ORPHA:478664</td>\n",
       "      <td>Hereditary sensory and autonomic neuropathy ty...</td>\n",
       "      <td>UMLS:C4225308</td>\n",
       "    </tr>\n",
       "    <tr>\n",
       "      <th>2</th>\n",
       "      <td>ORPHA:478664</td>\n",
       "      <td>Hereditary sensory and autonomic neuropathy ty...</td>\n",
       "      <td>OMIM:616488</td>\n",
       "    </tr>\n",
       "    <tr>\n",
       "      <th>3</th>\n",
       "      <td>ORPHA:168</td>\n",
       "      <td>Loose anagen syndrome</td>\n",
       "      <td>MedDRA:10085066</td>\n",
       "    </tr>\n",
       "    <tr>\n",
       "      <th>4</th>\n",
       "      <td>ORPHA:168</td>\n",
       "      <td>Loose anagen syndrome</td>\n",
       "      <td>ICD-11:EC21.0</td>\n",
       "    </tr>\n",
       "  </tbody>\n",
       "</table>\n",
       "</div>"
      ],
      "text/plain": [
       "          ORPHA                                              label  \\\n",
       "0  ORPHA:478664  Hereditary sensory and autonomic neuropathy ty...   \n",
       "1  ORPHA:478664  Hereditary sensory and autonomic neuropathy ty...   \n",
       "2  ORPHA:478664  Hereditary sensory and autonomic neuropathy ty...   \n",
       "3     ORPHA:168                              Loose anagen syndrome   \n",
       "4     ORPHA:168                              Loose anagen syndrome   \n",
       "\n",
       "               Map  \n",
       "0     ICD-10:G60.8  \n",
       "1    UMLS:C4225308  \n",
       "2      OMIM:616488  \n",
       "3  MedDRA:10085066  \n",
       "4    ICD-11:EC21.0  "
      ]
     },
     "execution_count": 6,
     "metadata": {},
     "output_type": "execute_result"
    }
   ],
   "source": [
    "# Splitting the 'Map' column by '|'\n",
    "split_maps = clean_ordo['Map'].str.split('|').tolist()\n",
    "expanded_data = []\n",
    "\n",
    "for i in range(len(split_maps)):\n",
    "    # Check if split_maps is not nan or empty\n",
    "    if type(split_maps[i])==float or len(split_maps[i])==0:\n",
    "        continue\n",
    "    else:\n",
    "        for item in split_maps[i]:\n",
    "            expanded_data.append([clean_ordo.iloc[i]['ORPHA'], clean_ordo.iloc[i]['label'], item])\n",
    "\n",
    "# Creating a new DataFrame\n",
    "expanded_ordo_map = pd.DataFrame(expanded_data, columns=['ORPHA', 'label', 'Map'])\n",
    "expanded_ordo_map.head()"
   ]
  },
  {
   "cell_type": "code",
   "execution_count": 7,
   "metadata": {},
   "outputs": [
    {
     "data": {
      "text/plain": [
       "UMLS      9008\n",
       "ICD-10    8495\n",
       "OMIM      8199\n",
       "ICD-11    5781\n",
       "MeSH      3196\n",
       "MedDRA    1601\n",
       "Name: Term Type, dtype: int64"
      ]
     },
     "execution_count": 7,
     "metadata": {},
     "output_type": "execute_result"
    }
   ],
   "source": [
    "# List all type of ORPHA to external code mapping\n",
    "expanded_ordo_map[['Term Type', 'Mapped Code']] = expanded_ordo_map['Map'].str.split(':', expand=True)\n",
    "expanded_ordo_map['Term Type'].value_counts()"
   ]
  },
  {
   "cell_type": "code",
   "execution_count": 8,
   "metadata": {},
   "outputs": [
    {
     "ename": "NameError",
     "evalue": "name 'merged_ordo' is not defined",
     "output_type": "error",
     "traceback": [
      "\u001b[1;31m---------------------------------------------------------------------------\u001b[0m",
      "\u001b[1;31mNameError\u001b[0m                                 Traceback (most recent call last)",
      "\u001b[1;32m<ipython-input-8-965923e8f90d>\u001b[0m in \u001b[0;36m<module>\u001b[1;34m\u001b[0m\n\u001b[0;32m      5\u001b[0m \u001b[1;31m# Combine ordo_icd10 and ordo_omim left join on ORPHA (expanded_ordo_map), and coalesce the value\u001b[0m\u001b[1;33m\u001b[0m\u001b[1;33m\u001b[0m\u001b[1;33m\u001b[0m\u001b[0m\n\u001b[0;32m      6\u001b[0m \u001b[0micd10_omim\u001b[0m \u001b[1;33m=\u001b[0m \u001b[0mpd\u001b[0m\u001b[1;33m.\u001b[0m\u001b[0mmerge\u001b[0m\u001b[1;33m(\u001b[0m\u001b[0morpha_omim\u001b[0m\u001b[1;33m,\u001b[0m \u001b[0morpha_icd10\u001b[0m\u001b[1;33m,\u001b[0m \u001b[0mon\u001b[0m\u001b[1;33m=\u001b[0m\u001b[1;34m'ORPHA'\u001b[0m\u001b[1;33m,\u001b[0m \u001b[0mhow\u001b[0m\u001b[1;33m=\u001b[0m\u001b[1;34m'outer'\u001b[0m\u001b[1;33m,\u001b[0m \u001b[0msuffixes\u001b[0m\u001b[1;33m=\u001b[0m\u001b[1;33m(\u001b[0m\u001b[1;34m'OMIM'\u001b[0m\u001b[1;33m,\u001b[0m \u001b[1;34m'ICD10'\u001b[0m\u001b[1;33m)\u001b[0m\u001b[1;33m)\u001b[0m\u001b[1;33m\u001b[0m\u001b[1;33m\u001b[0m\u001b[0m\n\u001b[1;32m----> 7\u001b[1;33m \u001b[0micd10_omim\u001b[0m \u001b[1;33m=\u001b[0m \u001b[0mmerged_ordo\u001b[0m\u001b[1;33m[\u001b[0m\u001b[0mmerged_ordo\u001b[0m\u001b[1;33m[\u001b[0m\u001b[1;34m'MapOMIM'\u001b[0m\u001b[1;33m]\u001b[0m\u001b[1;33m.\u001b[0m\u001b[0mnotnull\u001b[0m\u001b[1;33m(\u001b[0m\u001b[1;33m)\u001b[0m \u001b[1;33m&\u001b[0m \u001b[0mmerged_ordo\u001b[0m\u001b[1;33m[\u001b[0m\u001b[1;34m'MapICD10'\u001b[0m\u001b[1;33m]\u001b[0m\u001b[1;33m.\u001b[0m\u001b[0mnotnull\u001b[0m\u001b[1;33m(\u001b[0m\u001b[1;33m)\u001b[0m\u001b[1;33m]\u001b[0m\u001b[1;33m[\u001b[0m\u001b[1;33m[\u001b[0m\u001b[1;34m'MapICD10'\u001b[0m\u001b[1;33m,\u001b[0m \u001b[1;34m'MapOMIM'\u001b[0m\u001b[1;33m]\u001b[0m\u001b[1;33m]\u001b[0m\u001b[1;33m.\u001b[0m\u001b[0mdrop_duplicates\u001b[0m\u001b[1;33m(\u001b[0m\u001b[1;33m)\u001b[0m\u001b[1;33m\u001b[0m\u001b[1;33m\u001b[0m\u001b[0m\n\u001b[0m",
      "\u001b[1;31mNameError\u001b[0m: name 'merged_ordo' is not defined"
     ]
    }
   ],
   "source": [
    "# Get ICD10, ORPHA, OMIM code mapping\n",
    "orpha_icd10 = expanded_ordo_map[expanded_ordo_map['Term Type']=='ICD-10'][['ORPHA', 'Map']].drop_duplicates()\n",
    "orpha_omim = expanded_ordo_map[expanded_ordo_map['Term Type']=='OMIM'][['ORPHA', 'Map']].drop_duplicates()\n",
    "\n",
    "# Combine ordo_icd10 and ordo_omim left join on ORPHA (expanded_ordo_map), and coalesce the value\n",
    "icd10_omim = pd.merge(orpha_omim, orpha_icd10, on='ORPHA', how='outer', suffixes=('OMIM', 'ICD10'))\n",
    "icd10_omim = merged_ordo[merged_ordo['MapOMIM'].notnull() & merged_ordo['MapICD10'].notnull()][['MapICD10', 'MapOMIM']].drop_duplicates()"
   ]
  },
  {
   "cell_type": "code",
   "execution_count": null,
   "metadata": {},
   "outputs": [],
   "source": [
    "## Final Cleanse and Save the Data\n",
    "### Rename the columns to match the standard Orpha, OMIM, ICD10\n",
    "\n",
    "icd10_omim.columns = ['ICD10', 'OMIM']\n",
    "icd10_omim.to_csv(os.path.join('subset', 'icd102omim_subset.tsv'), index=False, sep='\\t')\n",
    "\n",
    "orpha_omim.columns = ['ORPHA', 'OMIM']\n",
    "orpha_omim.to_csv(os.path.join('subset', 'orpha2omim_subset.tsv'), index=False, sep='\\t')"
   ]
  },
  {
   "cell_type": "code",
   "execution_count": null,
   "metadata": {},
   "outputs": [],
   "source": []
  }
 ],
 "metadata": {
  "kernelspec": {
   "display_name": "datascience",
   "language": "python",
   "name": "python3"
  },
  "language_info": {
   "codemirror_mode": {
    "name": "ipython",
    "version": 3
   },
   "file_extension": ".py",
   "mimetype": "text/x-python",
   "name": "python",
   "nbconvert_exporter": "python",
   "pygments_lexer": "ipython3",
   "version": "3.8.8"
  }
 },
 "nbformat": 4,
 "nbformat_minor": 2
}
