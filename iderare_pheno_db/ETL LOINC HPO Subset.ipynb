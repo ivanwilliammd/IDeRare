{
 "cells": [
  {
   "cell_type": "code",
   "execution_count": 1,
   "metadata": {},
   "outputs": [],
   "source": [
    "import os\n",
    "import pandas as pd"
   ]
  },
  {
   "cell_type": "code",
   "execution_count": 2,
   "metadata": {},
   "outputs": [],
   "source": [
    "# Load the data\n",
    "data_path = os.path.join(os.getcwd(), 'rawdl_20240310', 'loinc2hpo-annotations.tsv')\n",
    "data = pd.read_csv(data_path, sep='\\t')"
   ]
  },
  {
   "cell_type": "code",
   "execution_count": 3,
   "metadata": {},
   "outputs": [],
   "source": [
    "# Simplified data and add prefix\n",
    "uniform_data = pd.DataFrame()\n",
    "uniform_data['loinc'] = 'LOINC:' + data['loincId']\n",
    "uniform_data['scale'] = data['loincScale'].str.replace(' ', '_')\n",
    "\n",
    "# Change the name to interpretation according to FHIR R4 Observation resource\n",
    "uniform_data['interpretation'] = data['outcome']\n",
    "uniform_data['hpoTermId'] = data['hpoTermId']"
   ]
  },
  {
   "cell_type": "code",
   "execution_count": 4,
   "metadata": {},
   "outputs": [],
   "source": [
    "uniform_data.to_csv(os.path.join(os.getcwd(), 'subset', 'loinc2hpo_standardized.tsv'), index=False, sep='\\t')"
   ]
  },
  {
   "cell_type": "code",
   "execution_count": null,
   "metadata": {},
   "outputs": [],
   "source": []
  }
 ],
 "metadata": {
  "kernelspec": {
   "display_name": "datascience",
   "language": "python",
   "name": "python3"
  },
  "language_info": {
   "codemirror_mode": {
    "name": "ipython",
    "version": 3
   },
   "file_extension": ".py",
   "mimetype": "text/x-python",
   "name": "python",
   "nbconvert_exporter": "python",
   "pygments_lexer": "ipython3",
   "version": "3.8.8"
  }
 },
 "nbformat": 4,
 "nbformat_minor": 2
}
